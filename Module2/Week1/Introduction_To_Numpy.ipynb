{
 "cells": [
  {
   "cell_type": "markdown",
   "metadata": {},
   "source": [
    "# Introduction"
   ]
  },
  {
   "cell_type": "code",
   "execution_count": 2,
   "metadata": {},
   "outputs": [],
   "source": [
    "import numpy as np"
   ]
  },
  {
   "cell_type": "code",
   "execution_count": 4,
   "metadata": {},
   "outputs": [
    {
     "name": "stdout",
     "output_type": "stream",
     "text": [
      "<numpy.vectorize object at 0x0000015CF419B410>\n",
      "[ 2  5 10 17]\n"
     ]
    }
   ],
   "source": [
    "def f_function(number):\n",
    "    result = number ** 2 + 1\n",
    "    return result\n",
    "\n",
    "factorial_np = np.vectorize(f_function)\n",
    "numbers = [1, 2, 3, 4]\n",
    "numbers_array = np.array(numbers)\n",
    "print(factorial_np(numbers_array))"
   ]
  },
  {
   "cell_type": "markdown",
   "metadata": {},
   "source": [
    "# Common Function"
   ]
  },
  {
   "cell_type": "markdown",
   "metadata": {},
   "source": [
    "## Create numpy arrays"
   ]
  },
  {
   "cell_type": "code",
   "execution_count": 5,
   "metadata": {},
   "outputs": [
    {
     "data": {
      "text/plain": [
       "(array([[0., 0., 0.],\n",
       "        [0., 0., 0.]]),\n",
       " (2, 3))"
      ]
     },
     "execution_count": 5,
     "metadata": {},
     "output_type": "execute_result"
    }
   ],
   "source": [
    "# zeros function()\n",
    "arr = np.zeros((2,3))\n",
    "arr, arr.shape"
   ]
  },
  {
   "cell_type": "code",
   "execution_count": 6,
   "metadata": {},
   "outputs": [
    {
     "name": "stdout",
     "output_type": "stream",
     "text": [
      "[[1. 1. 1.]\n",
      " [1. 1. 1.]]\n"
     ]
    }
   ],
   "source": [
    "# ones function()\n",
    "arr = np.ones((2, 3))\n",
    "print(arr)"
   ]
  },
  {
   "cell_type": "code",
   "execution_count": 7,
   "metadata": {},
   "outputs": [
    {
     "name": "stdout",
     "output_type": "stream",
     "text": [
      "[[9 9 9]\n",
      " [9 9 9]]\n"
     ]
    }
   ],
   "source": [
    "# full() function\n",
    "arr = np.full((2, 3), 9)\n",
    "print(arr)"
   ]
  },
  {
   "cell_type": "code",
   "execution_count": 9,
   "metadata": {},
   "outputs": [
    {
     "data": {
      "text/plain": [
       "array([[1., 0., 0.],\n",
       "       [0., 1., 0.],\n",
       "       [0., 0., 1.]])"
      ]
     },
     "execution_count": 9,
     "metadata": {},
     "output_type": "execute_result"
    }
   ],
   "source": [
    "# eye function\n",
    "np.eye(3) # diagonal matrix"
   ]
  },
  {
   "cell_type": "code",
   "execution_count": 16,
   "metadata": {},
   "outputs": [
    {
     "data": {
      "text/plain": [
       "array([[0.20474089, 0.60202062, 0.79433979],\n",
       "       [0.13978169, 0.69464665, 0.7619064 ]])"
      ]
     },
     "execution_count": 16,
     "metadata": {},
     "output_type": "execute_result"
    }
   ],
   "source": [
    "# random()\n",
    "np.random.random((2, 3))"
   ]
  },
  {
   "cell_type": "code",
   "execution_count": 17,
   "metadata": {},
   "outputs": [
    {
     "name": "stdout",
     "output_type": "stream",
     "text": [
      "[0 1 2 3 4]\n",
      "[0 2 4]\n"
     ]
    }
   ],
   "source": [
    "# arange()\n",
    "arr1 = np.arange(5)\n",
    "print(arr1)\n",
    "\n",
    "arr2 = np.arange(0, 5, 2)\n",
    "print(arr2)"
   ]
  },
  {
   "cell_type": "code",
   "execution_count": 18,
   "metadata": {},
   "outputs": [
    {
     "name": "stdout",
     "output_type": "stream",
     "text": [
      "Data\n",
      " [[1 2 3]\n",
      " [4 5 6]]\n",
      "Data shape\n",
      " (2, 3)\n",
      "Data_rs\n",
      " [[1 2]\n",
      " [3 4]\n",
      " [5 6]]\n",
      "Data_rs shape\n",
      " (3, 2)\n"
     ]
    }
   ],
   "source": [
    "# reshape function\n",
    "list_ = [\n",
    "    [1, 2, 3],\n",
    "    [4, 5, 6]\n",
    "]\n",
    "data = np.array(list_)\n",
    "print(\"Data\\n\", data)\n",
    "print(\"Data shape\\n\", data.shape)\n",
    "\n",
    "# reshape function\n",
    "data_rs = np.reshape(data, (3, 2))\n",
    "print(\"Data_rs\\n\", data_rs)\n",
    "print(\"Data_rs shape\\n\", data_rs.shape)"
   ]
  },
  {
   "cell_type": "code",
   "execution_count": 19,
   "metadata": {},
   "outputs": [
    {
     "name": "stdout",
     "output_type": "stream",
     "text": [
      "Data:\n",
      " [[2 3 2]\n",
      " [3 4 1]]\n",
      "Vector1:\n",
      " [2 3 2 3 4 1]\n",
      "Vector2:\n",
      " [2 3 2 3 4 1]\n"
     ]
    }
   ],
   "source": [
    "data = np.random.randint(1, 5, (2, 3)) # (low, high, size:tuple)\n",
    "print(\"Data:\\n\", data)\n",
    "vector1 = data.flatten()\n",
    "print(\"Vector1:\\n\", vector1)\n",
    "\n",
    "vector2 = data.reshape(-1) # flatten\n",
    "print(\"Vector2:\\n\", vector2)"
   ]
  },
  {
   "cell_type": "code",
   "execution_count": 91,
   "metadata": {},
   "outputs": [
    {
     "name": "stdout",
     "output_type": "stream",
     "text": [
      "Data:\n",
      " [[6 1]\n",
      " [7 1]]\n",
      "\n",
      " [[6 1]\n",
      " [6 1]\n",
      " [7 1]\n",
      " [7 1]]\n",
      "\n",
      " (4, 2)\n",
      "\n",
      " [[6 6 1 1]\n",
      " [7 7 1 1]]\n",
      "\n",
      " (2, 4)\n"
     ]
    }
   ],
   "source": [
    "data = np.random.randint(1, 9, (2, 2))\n",
    "print(\"Data:\\n\", data)\n",
    "data_repeat = np.repeat(data, 2, axis= 0)\n",
    "print(\"\\n\", data_repeat)\n",
    "print(\"\\n\", data_repeat.shape)\n",
    "\n",
    "data_repeat = np.repeat(data, 2, axis= 1)\n",
    "print(\"\\n\", data_repeat)\n",
    "print(\"\\n\", data_repeat.shape)"
   ]
  },
  {
   "cell_type": "markdown",
   "metadata": {},
   "source": [
    "# Indexing and Broadcasting"
   ]
  },
  {
   "cell_type": "code",
   "execution_count": 30,
   "metadata": {},
   "outputs": [
    {
     "name": "stdout",
     "output_type": "stream",
     "text": [
      "[[1 2 3]\n",
      " [4 5 6]]\n",
      "\n",
      " [[2 3]\n",
      " [5 6]]\n"
     ]
    }
   ],
   "source": [
    "a_arr = np.array(\n",
    "    [\n",
    "        [1, 2, 3],\n",
    "        [4, 5, 6]\n",
    "    ]\n",
    ")\n",
    "b_arr = a_arr[: , 1: 3]\n",
    "print(a_arr)\n",
    "print(\"\\n\", b_arr)"
   ]
  },
  {
   "cell_type": "code",
   "execution_count": 31,
   "metadata": {},
   "outputs": [
    {
     "name": "stdout",
     "output_type": "stream",
     "text": [
      "a_arr:\n",
      " [[1 2 3]\n",
      " [4 5 6]]\n",
      "b_arr:\n",
      " [[2 3]\n",
      " [5 6]]\n",
      "Before changing \n",
      " 2\n",
      "After changing: \n",
      "\n",
      "a_arr:\n",
      " [[ 1 99  3]\n",
      " [ 4  5  6]]\n",
      "b_arr:\n",
      " [[99  3]\n",
      " [ 5  6]]\n"
     ]
    }
   ],
   "source": [
    "a_arr = np.array(\n",
    "    [\n",
    "        [1, 2, 3],\n",
    "        [4, 5, 6]\n",
    "    ]\n",
    ")\n",
    "print(\"a_arr:\\n\", a_arr)\n",
    "b_arr = a_arr[: , 1: 3]\n",
    "print(\"b_arr:\\n\", b_arr)\n",
    "\n",
    "print(\"Before changing \\n\", a_arr[0, 1])\n",
    "b_arr[0, 0] = 99\n",
    "print(\"After changing: \\n\")\n",
    "print(\"a_arr:\\n\", a_arr)\n",
    "print(\"b_arr:\\n\", b_arr)\n",
    "# sharing memory between 2 numpy array"
   ]
  },
  {
   "cell_type": "code",
   "execution_count": 34,
   "metadata": {},
   "outputs": [
    {
     "name": "stdout",
     "output_type": "stream",
     "text": [
      "[4 5 6] (3,)\n",
      "[[4 5 6]] (1, 3)\n"
     ]
    }
   ],
   "source": [
    "arr = np.array(\n",
    "    [\n",
    "        [1,2,3],\n",
    "        [4,5,6],\n",
    "        [7,8,9]\n",
    "    ]\n",
    ")\n",
    "row_m1 = arr[1, :]\n",
    "row_m2 = arr[1:2, :]\n",
    "print(row_m1, row_m1.shape)\n",
    "print(row_m2, row_m2.shape)"
   ]
  },
  {
   "cell_type": "code",
   "execution_count": 35,
   "metadata": {},
   "outputs": [
    {
     "name": "stdout",
     "output_type": "stream",
     "text": [
      "[2 5 8] (3,)\n",
      "[[2]\n",
      " [5]\n",
      " [8]] (3, 1)\n"
     ]
    }
   ],
   "source": [
    "# get a column\n",
    "arr = np.array(\n",
    "    [\n",
    "        [1,2,3],\n",
    "        [4,5,6],\n",
    "        [7,8,9]\n",
    "    ]\n",
    ")\n",
    "col_m1 = arr[:, 1] # reduce dimension\n",
    "col_m2 = arr[:, 1:2] # keepdim = True\n",
    "\n",
    "print(col_m1, col_m1.shape)\n",
    "print(col_m2, col_m2.shape)"
   ]
  },
  {
   "cell_type": "code",
   "execution_count": 37,
   "metadata": {},
   "outputs": [
    {
     "name": "stdout",
     "output_type": "stream",
     "text": [
      "out1:\n",
      " [1 4 5]\n",
      "out2:\n",
      " [2 2]\n"
     ]
    }
   ],
   "source": [
    "arr = np.array(\n",
    "    [\n",
    "        [1, 2],\n",
    "        [3, 4],\n",
    "        [5, 6]\n",
    "    ]\n",
    ")\n",
    "out1 = arr[[0, 1, 2], [0, 1, 0]]\n",
    "print(\"out1:\\n\", out1)\n",
    "\n",
    "out2 = arr[[0, 0], [1, 1]]\n",
    "print(\"out2:\\n\", out2)"
   ]
  },
  {
   "cell_type": "code",
   "execution_count": 39,
   "metadata": {},
   "outputs": [
    {
     "name": "stdout",
     "output_type": "stream",
     "text": [
      "<class 'numpy.ndarray'>\n",
      "Bool idx: \n",
      " [[False False]\n",
      " [ True  True]\n",
      " [ True  True]]\n",
      "[3 4 5 6]\n"
     ]
    }
   ],
   "source": [
    "arr = np.array(\n",
    "    [\n",
    "        [1, 2],\n",
    "        [3, 4],\n",
    "        [5, 6]\n",
    "    ]\n",
    ")\n",
    "bool_idx = (arr > 2)\n",
    "print(type(bool_idx))\n",
    "print(\"Bool idx: \\n\", bool_idx)\n",
    "result = arr[bool_idx]\n",
    "print(result)"
   ]
  },
  {
   "cell_type": "code",
   "execution_count": 41,
   "metadata": {},
   "outputs": [
    {
     "name": "stdout",
     "output_type": "stream",
     "text": [
      "10\n",
      "[4 6]\n",
      "[3 7]\n"
     ]
    }
   ],
   "source": [
    "data= np.array(\n",
    "    [\n",
    "        [1, 2],\n",
    "        [3, 4]\n",
    "    ]\n",
    ")\n",
    "print(np.sum(data))\n",
    "print(np.sum(data, axis= 0))\n",
    "print(np.sum(data, axis= 1))"
   ]
  },
  {
   "cell_type": "code",
   "execution_count": 42,
   "metadata": {},
   "outputs": [
    {
     "name": "stdout",
     "output_type": "stream",
     "text": [
      "3\n",
      "1\n"
     ]
    }
   ],
   "source": [
    "data= np.array([1, 2, 3])\n",
    "print(data.max())\n",
    "print(data.min())"
   ]
  },
  {
   "cell_type": "code",
   "execution_count": 43,
   "metadata": {},
   "outputs": [
    {
     "name": "stdout",
     "output_type": "stream",
     "text": [
      "[1 2 3]\n",
      "[2 4 6]\n",
      "[-1  0  1]\n"
     ]
    }
   ],
   "source": [
    "# broadcasting\n",
    "data= np.array([1, 2, 3])\n",
    "factor = 2\n",
    "\n",
    "result_multiplication = data*factor\n",
    "result_minus = data - factor\n",
    "\n",
    "print(data)\n",
    "print(result_multiplication)\n",
    "print(result_minus)"
   ]
  },
  {
   "cell_type": "code",
   "execution_count": 45,
   "metadata": {},
   "outputs": [
    {
     "name": "stdout",
     "output_type": "stream",
     "text": [
      "[[ 2  2  4]\n",
      " [ 5  5  7]\n",
      " [ 8  8 10]]\n"
     ]
    }
   ],
   "source": [
    "X = np.array(\n",
    "    [\n",
    "        [1,2,3],\n",
    "        [4,5,6],\n",
    "        [7,8,9]\n",
    "    ]\n",
    ")\n",
    "v = np.array(\n",
    "    [1, 0, 1]\n",
    ")\n",
    "Y = X + v\n",
    "print(Y)"
   ]
  },
  {
   "cell_type": "markdown",
   "metadata": {},
   "source": [
    "## Example 1: Softmax Function"
   ]
  },
  {
   "cell_type": "code",
   "execution_count": 48,
   "metadata": {},
   "outputs": [
    {
     "name": "stdout",
     "output_type": "stream",
     "text": [
      "[0.09003057 0.24472847 0.66524096]\n"
     ]
    }
   ],
   "source": [
    "def stable_softmax(X: np.ndarray):\n",
    "    exps = np.exp(X- np.max(X))\n",
    "    return exps / np.sum(exps)\n",
    "\n",
    "X = np.array(\n",
    "    [1.0, 2.0, 3.0]\n",
    ")\n",
    "f = stable_softmax(X)\n",
    "print(f)"
   ]
  },
  {
   "cell_type": "markdown",
   "metadata": {},
   "source": [
    "# Examples"
   ]
  },
  {
   "cell_type": "markdown",
   "metadata": {},
   "source": [
    "## Example 2"
   ]
  },
  {
   "cell_type": "code",
   "execution_count": 54,
   "metadata": {},
   "outputs": [],
   "source": [
    "import pandas as pd\n",
    "import matplotlib.pyplot as plt\n",
    "data = pd.read_csv(\"./temperature-1d.csv\").to_numpy()\n",
    "temp = data[:, 1]"
   ]
  },
  {
   "cell_type": "code",
   "execution_count": 59,
   "metadata": {},
   "outputs": [
    {
     "data": {
      "text/plain": [
       "240"
      ]
     },
     "execution_count": 59,
     "metadata": {},
     "output_type": "execute_result"
    }
   ],
   "source": [
    "data.shape[0]"
   ]
  },
  {
   "cell_type": "code",
   "execution_count": 50,
   "metadata": {},
   "outputs": [
    {
     "name": "stdout",
     "output_type": "stream",
     "text": [
      "(10, 24)\n"
     ]
    }
   ],
   "source": [
    "temp = temp.reshape(-1, 24)\n",
    "print(temp.shape)"
   ]
  },
  {
   "cell_type": "code",
   "execution_count": 60,
   "metadata": {},
   "outputs": [
    {
     "data": {
      "text/plain": [
       "Text(0, 0.5, 'Index')"
      ]
     },
     "execution_count": 60,
     "metadata": {},
     "output_type": "execute_result"
    },
    {
     "data": {
      "image/png": "[encoded data removed]",
      "text/plain": [
       "<Figure size 640x480 with 1 Axes>"
      ]
     },
     "metadata": {},
     "output_type": "display_data"
    }
   ],
   "source": [
    "plt.plot(data[:, :1], data[:, 1:])\n",
    "plt.xlabel(\"Temperature\")\n",
    "plt.ylabel(\"Index\")"
   ]
  },
  {
   "cell_type": "code",
   "execution_count": 71,
   "metadata": {},
   "outputs": [
    {
     "name": "stdout",
     "output_type": "stream",
     "text": [
      "(10,)\n",
      "(240,)\n"
     ]
    }
   ],
   "source": [
    "mean_24 = np.mean(temp.reshape(-1, 24), axis = 1)\n",
    "print(mean_24.shape)\n",
    "mean_24_repeat = np.repeat(mean_24, 24)\n",
    "print(mean_24_repeat.shape)"
   ]
  },
  {
   "cell_type": "code",
   "execution_count": 72,
   "metadata": {},
   "outputs": [
    {
     "data": {
      "image/png": "[encoded data removed]",
      "text/plain": [
       "<Figure size 1200x600 with 1 Axes>"
      ]
     },
     "metadata": {},
     "output_type": "display_data"
    },
    {
     "name": "stdout",
     "output_type": "stream",
     "text": [
      "Original temperature shape: (240,)\n",
      "Mean temperature shape: (10,)\n",
      "Repeated mean temperature shape: (240,)\n"
     ]
    }
   ],
   "source": [
    "temp = data[:, 1]\n",
    "\n",
    "# Calculate mean temperature\n",
    "mean_24 = np.mean(temp.reshape(-1, 24), axis=1)\n",
    "mean_24_repeat = np.repeat(mean_24, 24)\n",
    "\n",
    "# Create the plot\n",
    "plt.figure(figsize=(12, 6))  # Increase figure size for better visibility\n",
    "\n",
    "# Plot original temperature data\n",
    "plt.plot(data[:, 0], temp, label='Original Temperature')\n",
    "\n",
    "# Plot mean temperature\n",
    "plt.plot(data[:, 0], mean_24_repeat, label='Mean Temperature (24-hour)', color='red', linewidth=2)\n",
    "\n",
    "# Customize the plot\n",
    "plt.xlabel(\"Time\")\n",
    "plt.ylabel(\"Temperature\")\n",
    "plt.title(\"Temperature Data with 24-hour Moving Average\")\n",
    "plt.legend()\n",
    "\n",
    "# Display the plot\n",
    "plt.show()\n",
    "\n",
    "# Print shapes for verification\n",
    "print(\"Original temperature shape:\", temp.shape)\n",
    "print(\"Mean temperature shape:\", mean_24.shape)\n",
    "print(\"Repeated mean temperature shape:\", mean_24_repeat.shape)"
   ]
  },
  {
   "cell_type": "markdown",
   "metadata": {},
   "source": [
    "## Example 3"
   ]
  },
  {
   "cell_type": "code",
   "execution_count": 73,
   "metadata": {},
   "outputs": [
    {
     "name": "stdout",
     "output_type": "stream",
     "text": [
      "[0 0 0 1 1 1 2 2 2]\n"
     ]
    }
   ],
   "source": [
    "K = 3 #labels\n",
    "N = 9 #samples\n",
    "labels = [0, 0, 0, 1, 1, 1, 2, 2, 2]\n",
    "labels = np.array(labels)\n",
    "print(labels)"
   ]
  },
  {
   "cell_type": "code",
   "execution_count": 75,
   "metadata": {},
   "outputs": [
    {
     "name": "stdout",
     "output_type": "stream",
     "text": [
      "[[0. 0. 0.]\n",
      " [0. 0. 0.]\n",
      " [0. 0. 0.]\n",
      " [0. 0. 0.]\n",
      " [0. 0. 0.]\n",
      " [0. 0. 0.]\n",
      " [0. 0. 0.]\n",
      " [0. 0. 0.]\n",
      " [0. 0. 0.]]\n",
      "\n",
      " [[1. 0. 0.]\n",
      " [1. 0. 0.]\n",
      " [1. 0. 0.]\n",
      " [0. 1. 0.]\n",
      " [0. 1. 0.]\n",
      " [0. 1. 0.]\n",
      " [0. 0. 1.]\n",
      " [0. 0. 1.]\n",
      " [0. 0. 1.]]\n"
     ]
    }
   ],
   "source": [
    "labels_onehot = np.zeros((N, K))\n",
    "print(labels_onehot)\n",
    "labels_onehot[np.arange(N), labels] = 1\n",
    "print(\"\\n\",labels_onehot)"
   ]
  },
  {
   "cell_type": "code",
   "execution_count": 81,
   "metadata": {},
   "outputs": [],
   "source": [
    "data = np.genfromtxt(\n",
    "    \"./iris.csv\",\n",
    "    dtype=float,\n",
    "    delimiter=\",\",\n",
    "    skip_header=1  ,\n",
    "    usecols=[0, 1, 2, 3]\n",
    ")"
   ]
  },
  {
   "cell_type": "markdown",
   "metadata": {},
   "source": [
    "## Example 4"
   ]
  },
  {
   "cell_type": "code",
   "execution_count": 82,
   "metadata": {},
   "outputs": [
    {
     "name": "stdout",
     "output_type": "stream",
     "text": [
      "['0' '1' '2']\n",
      "[0. 1. 2.]\n"
     ]
    }
   ],
   "source": [
    "data = np.array(\n",
    "    ['class-1', 'class-2', 'class-3']\n",
    ")\n",
    "data = np.char.replace(data, 'class-1', '0')\n",
    "data = np.char.replace(data, 'class-2', '1')\n",
    "data = np.char.replace(data, 'class-3', '2')\n",
    "print(data)\n",
    "data = data.astype(float)\n",
    "print(data)"
   ]
  },
  {
   "cell_type": "code",
   "execution_count": 84,
   "metadata": {},
   "outputs": [
    {
     "name": "stdout",
     "output_type": "stream",
     "text": [
      "(150, 4)\n",
      "[0. 0. 0. 0. 0. 0. 0. 0. 0. 0. 0. 0. 0. 0. 0. 0. 0. 0. 0. 0. 0. 0. 0. 0.\n",
      " 0. 0. 0. 0. 0. 0. 0. 0. 0. 0. 0. 0. 0. 0. 0. 0. 0. 0. 0. 0. 0. 0. 0. 0.\n",
      " 0. 0. 1. 1. 1. 1. 1. 1. 1. 1. 1. 1. 1. 1. 1. 1. 1. 1. 1. 1. 1. 1. 1. 1.\n",
      " 1. 1. 1. 1. 1. 1. 1. 1. 1. 1. 1. 1. 1. 1. 1. 1. 1. 1. 1. 1. 1. 1. 1. 1.\n",
      " 1. 1. 1. 1. 2. 2. 2. 2. 2. 2. 2. 2. 2. 2. 2. 2. 2. 2. 2. 2. 2. 2. 2. 2.\n",
      " 2. 2. 2. 2. 2. 2. 2. 2. 2. 2. 2. 2. 2. 2. 2. 2. 2. 2. 2. 2. 2. 2. 2. 2.\n",
      " 2. 2. 2. 2. 2. 2.]\n"
     ]
    }
   ],
   "source": [
    "data = np.genfromtxt(\n",
    "    \"./iris.csv\",\n",
    "    dtype=float,\n",
    "    delimiter=\",\",\n",
    "    skip_header=1  ,\n",
    "    usecols=[0, 1, 2, 3]\n",
    ")\n",
    "print(data.shape)\n",
    "\n",
    "y = np.genfromtxt(\n",
    "    \"./iris.csv\",\n",
    "    dtype=\"str\",\n",
    "    delimiter=\",\",\n",
    "    skip_header=1  ,\n",
    "    usecols=4\n",
    ")\n",
    "\n",
    "categories = np.unique(y)\n",
    "for i in range(categories.size):\n",
    "    y = np.char.replace(y, categories[i], str(i))\n",
    "\n",
    "y = y.astype('float')\n",
    "print(y)"
   ]
  },
  {
   "cell_type": "markdown",
   "metadata": {},
   "source": [
    "# Conclusion"
   ]
  },
  {
   "cell_type": "markdown",
   "metadata": {},
   "source": [
    "## NumPy Functions Mentioned in the Slide\n",
    "\n",
    "### Section 2: Common Functions\n",
    "\n",
    "1. `zeros()`\n",
    "2. `ones()`\n",
    "3. `full()`\n",
    "4. `eye()`\n",
    "5. `random()`\n",
    "6. `arange(start, end, step)`\n",
    "7. `reshape()`\n",
    "8. `flatten()`\n",
    "9. `repeat(data, repeats, axis)`\n",
    "\n",
    "### Section 3: Indexing and Broadcasting\n",
    "\n",
    "10. `sum(data, axis=0)`\n",
    "11. `max()`\n",
    "12. `min()`\n",
    "\n",
    "### Section 4: Examples\n",
    "\n",
    "13. `np.genfromtxt(fname='...', dtype=float, delimiter=',', skip_header=1, usecols=[...])`\n",
    "14. `np.unique(data)`\n",
    "15. `np.char.replace(data, old, new)`\n",
    "16. `np.ndarray.astype(dtype=float)`\n",
    "\n",
    "### Additional NumPy Functions Implied or Used in Examples\n",
    "\n",
    "17. `np.array()`\n",
    "18. `np.mean()`\n",
    "\n",
    "### Other Python Functions or Methods Mentioned\n",
    "\n",
    "19. `print()`"
   ]
  }
 ],
 "metadata": {
  "kernelspec": {
   "display_name": "venv",
   "language": "python",
   "name": "python3"
  },
  "language_info": {
   "codemirror_mode": {
    "name": "ipython",
    "version": 3
   },
   "file_extension": ".py",
   "mimetype": "text/x-python",
   "name": "python",
   "nbconvert_exporter": "python",
   "pygments_lexer": "ipython3",
   "version": "3.11.8"
  }
 },
 "nbformat": 4,
 "nbformat_minor": 2
}
