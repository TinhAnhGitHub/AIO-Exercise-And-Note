{
 "cells": [
  {
   "cell_type": "code",
   "execution_count": 27,
   "metadata": {},
   "outputs": [],
   "source": [
    "import torch\n",
    "import torch.nn as nn\n",
    "\n",
    "from Exercises_1 import Softmax, SoftmaxStable\n",
    "from Exercises_2 import Student, Teacher, Doctor, Ward\n",
    "from Exercise_3 import Stack\n",
    "from Exercise_4 import Queue"
   ]
  },
  {
   "cell_type": "code",
   "execution_count": 15,
   "metadata": {},
   "outputs": [
    {
     "data": {
      "text/plain": [
       "tensor([0.0900, 0.2447, 0.6652])"
      ]
     },
     "execution_count": 15,
     "metadata": {},
     "output_type": "execute_result"
    }
   ],
   "source": [
    "data = torch.Tensor([1, 2, 3])\n",
    "softmax_function = nn.Softmax(dim= -1)\n",
    "output = softmax_function(data)\n",
    "assert round(output[0].item(), 2) == 0.09\n",
    "output"
   ]
  },
  {
   "cell_type": "code",
   "execution_count": 16,
   "metadata": {},
   "outputs": [
    {
     "data": {
      "text/plain": [
       "tensor([0.7054, 0.0351, 0.2595])"
      ]
     },
     "execution_count": 16,
     "metadata": {},
     "output_type": "execute_result"
    }
   ],
   "source": [
    "data = torch.tensor([5, 2, 4])\n",
    "my_sm = Softmax()\n",
    "output = my_sm(data)\n",
    "assert round ( output [ -1]. item () , 2) == 0.26\n",
    "output"
   ]
  },
  {
   "cell_type": "code",
   "execution_count": 17,
   "metadata": {},
   "outputs": [
    {
     "data": {
      "text/plain": [
       "tensor([0., 0., nan])"
      ]
     },
     "execution_count": 17,
     "metadata": {},
     "output_type": "execute_result"
    }
   ],
   "source": [
    "data = torch.tensor([1, 2, 30_000_000])\n",
    "my_sm = Softmax()\n",
    "output = my_sm(data)\n",
    "assert round(output[0].item(), 2) == 0.0\n",
    "output"
   ]
  },
  {
   "cell_type": "code",
   "execution_count": 18,
   "metadata": {},
   "outputs": [
    {
     "data": {
      "text/plain": [
       "tensor([0.0900, 0.2447, 0.6652])"
      ]
     },
     "execution_count": 18,
     "metadata": {},
     "output_type": "execute_result"
    }
   ],
   "source": [
    "data = torch.Tensor([1, 2, 3])\n",
    "softmax_function = SoftmaxStable()\n",
    "output = softmax_function(data)\n",
    "assert round(output[-1].item(), 2) == 0.67\n",
    "output"
   ]
  },
  {
   "cell_type": "code",
   "execution_count": 21,
   "metadata": {},
   "outputs": [
    {
     "name": "stdout",
     "output_type": "stream",
     "text": [
      "Student - Name:  studentZ2023  - YoB: 2011 - Grade: 6\n"
     ]
    }
   ],
   "source": [
    "student1 = Student ( name =\" studentZ2023 \", yob =2011 , grade =\"6\")\n",
    "assert student1.yob == 2011\n",
    "student1.describe ()"
   ]
  },
  {
   "cell_type": "code",
   "execution_count": 23,
   "metadata": {},
   "outputs": [
    {
     "name": "stdout",
     "output_type": "stream",
     "text": [
      "Teacher - Name:  teacherZ2023  - YoB: 1991 - Subject:  History \n"
     ]
    }
   ],
   "source": [
    "teacher1 = Teacher ( name =\" teacherZ2023 \", yob =1991 , subject =\" History \")\n",
    "assert teacher1.yob == 1991\n",
    "teacher1.describe ()"
   ]
  },
  {
   "cell_type": "code",
   "execution_count": 25,
   "metadata": {},
   "outputs": [
    {
     "name": "stdout",
     "output_type": "stream",
     "text": [
      "Doctor - Name:  doctorZ2023  - YoB: 1981 - Specialist:  Endocrinologists \n"
     ]
    }
   ],
   "source": [
    "doctor1 = Doctor ( name =\" doctorZ2023 \", yob =1981 , specialist =\" Endocrinologists \")\n",
    "assert doctor1.yob == 1981\n",
    "doctor1 . describe ()"
   ]
  },
  {
   "cell_type": "code",
   "execution_count": 26,
   "metadata": {},
   "outputs": [
    {
     "name": "stdout",
     "output_type": "stream",
     "text": [
      "Number of doctors in the ward: 2\n"
     ]
    }
   ],
   "source": [
    "student1 = Student(name=\"studentA\", yob=2010, grade=\"7\")\n",
    "teacher1 = Teacher(name=\"teacherA\", yob=1969, subject=\"Math\")\n",
    "teacher2 = Teacher(name=\"teacherB\", yob=1995, subject=\"History\")\n",
    "doctor1 = Doctor(name=\"doctorA\", yob=1945, specialist=\"Endocrinologists\")\n",
    "\n",
    "ward1 = Ward(name=\"Ward1\")\n",
    "\n",
    "ward1.add_person(student1)\n",
    "ward1.add_person(teacher1)\n",
    "ward1.add_person(teacher2)\n",
    "ward1.add_person(doctor1)\n",
    "\n",
    "assert ward1.count_doctor() == 1, \"The number of doctors should be 1\"\n",
    "\n",
    "doctor2 = Doctor(name=\"doctorB\", yob=1975, specialist=\"Cardiologists\")\n",
    "ward1.add_person(doctor2)\n",
    "\n",
    "print(f\"Number of doctors in the ward: {ward1.count_doctor()}\")\n"
   ]
  },
  {
   "cell_type": "code",
   "execution_count": 28,
   "metadata": {},
   "outputs": [
    {
     "name": "stdout",
     "output_type": "stream",
     "text": [
      "False\n"
     ]
    }
   ],
   "source": [
    "stack1 = Stack ( capacity =5)\n",
    "stack1 . push (1)\n",
    "assert stack1 . is_full () == False\n",
    "stack1 . push (2)\n",
    "print ( stack1 . is_full () )"
   ]
  },
  {
   "cell_type": "code",
   "execution_count": 30,
   "metadata": {},
   "outputs": [
    {
     "name": "stdout",
     "output_type": "stream",
     "text": [
      "2\n"
     ]
    }
   ],
   "source": [
    "stack1 = Stack ( capacity =5)\n",
    "stack1 . push (1)\n",
    "assert stack1 . is_full () == False\n",
    "stack1 . push (2)\n",
    "print ( stack1 . top () )"
   ]
  },
  {
   "cell_type": "code",
   "execution_count": 31,
   "metadata": {},
   "outputs": [
    {
     "name": "stdout",
     "output_type": "stream",
     "text": [
      "False\n"
     ]
    }
   ],
   "source": [
    "queue1 = Queue ( capacity =5)\n",
    "queue1 . enqueue (1)\n",
    "assert queue1 . is_full () == False\n",
    "queue1 . enqueue (2)\n",
    "print ( queue1 . is_full () )"
   ]
  },
  {
   "cell_type": "code",
   "execution_count": 32,
   "metadata": {},
   "outputs": [
    {
     "name": "stdout",
     "output_type": "stream",
     "text": [
      "1\n"
     ]
    },
    {
     "ename": "",
     "evalue": "",
     "output_type": "error",
     "traceback": [
      "\u001b[1;31mThe Kernel crashed while executing code in the current cell or a previous cell. \n",
      "\u001b[1;31mPlease review the code in the cell(s) to identify a possible cause of the failure. \n",
      "\u001b[1;31mClick <a href='https://aka.ms/vscodeJupyterKernelCrash'>here</a> for more info. \n",
      "\u001b[1;31mView Jupyter <a href='command:jupyter.viewOutput'>log</a> for further details."
     ]
    }
   ],
   "source": [
    "queue1 = Queue ( capacity =5)\n",
    "queue1 . enqueue (1)\n",
    "assert queue1 . is_full () == False\n",
    "queue1 . enqueue (2)\n",
    "print ( queue1 . front () )"
   ]
  }
 ],
 "metadata": {
  "kernelspec": {
   "display_name": "venv",
   "language": "python",
   "name": "python3"
  },
  "language_info": {
   "codemirror_mode": {
    "name": "ipython",
    "version": 3
   },
   "file_extension": ".py",
   "mimetype": "text/x-python",
   "name": "python",
   "nbconvert_exporter": "python",
   "pygments_lexer": "ipython3",
   "version": "3.11.8"
  }
 },
 "nbformat": 4,
 "nbformat_minor": 2
}
