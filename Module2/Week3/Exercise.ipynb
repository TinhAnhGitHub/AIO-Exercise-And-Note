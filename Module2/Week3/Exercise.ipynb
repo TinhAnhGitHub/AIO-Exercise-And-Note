{
 "cells": [
  {
   "cell_type": "code",
   "execution_count": 36,
   "metadata": {},
   "outputs": [],
   "source": [
    "import pandas as pd\n",
    "import numpy as np\n",
    "from scipy.stats import norm"
   ]
  },
  {
   "cell_type": "code",
   "execution_count": 37,
   "metadata": {},
   "outputs": [],
   "source": [
    "data = {\n",
    "    'Outlook': ['Sunny', 'Sunny', 'Overcast', 'Rain', 'Rain', 'Rain', 'Overcast', 'Overcast', 'Sunny', 'Rain'],\n",
    "    'Temperature': ['Hot', 'Hot', 'Hot', 'Mild', 'Cool', 'Cool', 'Cool', 'Mild', 'Cool', 'Mild'],\n",
    "    'Humidity': ['High', 'High', 'High', 'High', 'Normal', 'Normal', 'Normal', 'High', 'Normal', 'Normal'],\n",
    "    'Wind': ['Weak', 'Strong', 'Weak', 'Weak', 'Weak', 'Strong', 'Strong', 'Weak', 'Weak', 'Weak'],\n",
    "    'PlayTennis': ['No', 'No', 'Yes', 'Yes', 'Yes', 'No', 'Yes', 'No', 'Yes', 'Yes']\n",
    "}\n",
    "df = pd.DataFrame(data)\n",
    "X = df[['Outlook', 'Temperature', 'Humidity', 'Wind']]\n",
    "y = df['PlayTennis']"
   ]
  },
  {
   "cell_type": "code",
   "execution_count": 38,
   "metadata": {},
   "outputs": [],
   "source": [
    "X = df[['Outlook', 'Temperature', 'Humidity', 'Wind']]\n",
    "y = df['PlayTennis']"
   ]
  },
  {
   "cell_type": "code",
   "execution_count": 39,
   "metadata": {},
   "outputs": [],
   "source": [
    "class NaiveClassifier:\n",
    "    def __init__(self):\n",
    "        self.prior = {}\n",
    "        self.conditional = {}\n",
    "        self.feature_types = {}\n",
    "\n",
    "    def fit(self, X: pd.DataFrame, y: pd.DataFrame):\n",
    "        self.prior = y.value_counts(normalize=True).to_dict()\n",
    "        \n",
    "\n",
    "        for feature in X.columns:\n",
    "            self.feature_types[feature] = 'continuous' if X[feature].dtype in ['int64', 'int16','int8','float64', 'float32'] else 'categorical' \n",
    "            self.conditional[feature] = {}\n",
    "            \n",
    "            if self.feature_types[feature] == 'categorical':\n",
    "                unique_value_of_feat = X[feature].unique()\n",
    "                for item in unique_value_of_feat:\n",
    "                    self.conditional[feature][item] = {}\n",
    "                    for class_label in y.unique():\n",
    "                        self.conditional[feature][item][class_label] = X[y == class_label][feature].value_counts(normalize=True).to_dict()\n",
    "            else:\n",
    "                for class_label in y.unique():\n",
    "                    class_data = X[y == class_label][feature]\n",
    "                    self.conditional[feature][class_label] = {\n",
    "                        'mean': class_data.mean(),\n",
    "                        'std': max(class_data.std(), 1e-6)\n",
    "                    }\n",
    "        \n",
    "    def predict(self, x):\n",
    "        probabilities = {}\n",
    "        for class_label in self.prior.keys():\n",
    "            prob = self.prior[class_label]\n",
    "            for feature, value in x.items():\n",
    "                if self.feature_types[feature] == 'categorical':\n",
    "                    prob *= self.conditional[feature][value][class_label].get(value, 00000.1)\n",
    "                else:  # continuous feature\n",
    "                    mean = self.conditional[feature][class_label]['mean']\n",
    "                    std = self.conditional[feature][class_label]['std']\n",
    "                    prob *= norm.pdf(value, mean, std)\n",
    "                \n",
    "            \n",
    "            probabilities[class_label] = prob\n",
    "        \n",
    "        return probabilities\n",
    "\n",
    "                "
   ]
  },
  {
   "cell_type": "code",
   "execution_count": 40,
   "metadata": {},
   "outputs": [
    {
     "data": {
      "text/plain": [
       "array(['Sunny', 'Overcast', 'Rain'], dtype=object)"
      ]
     },
     "execution_count": 40,
     "metadata": {},
     "output_type": "execute_result"
    }
   ],
   "source": [
    "X['Outlook'].unique()"
   ]
  },
  {
   "cell_type": "code",
   "execution_count": 41,
   "metadata": {},
   "outputs": [],
   "source": [
    "X = df[['Outlook', 'Temperature', 'Humidity', 'Wind']]\n",
    "y = df['PlayTennis']"
   ]
  },
  {
   "cell_type": "code",
   "execution_count": 42,
   "metadata": {},
   "outputs": [],
   "source": [
    "clf = NaiveClassifier()\n",
    "clf.fit(X, y)\n"
   ]
  },
  {
   "cell_type": "code",
   "execution_count": 43,
   "metadata": {},
   "outputs": [
    {
     "data": {
      "text/plain": [
       "{'Yes': 0.002777777777777777, 'No': 0.018750000000000003}"
      ]
     },
     "execution_count": 43,
     "metadata": {},
     "output_type": "execute_result"
    }
   ],
   "source": [
    "X_test = {\n",
    "    'Outlook': 'Sunny',\n",
    "    'Temperature': 'Cool',\n",
    "    'Humidity': 'High',\n",
    "    'Wind': 'Strong'\n",
    "}\n",
    "clf.predict(X_test)"
   ]
  },
  {
   "cell_type": "markdown",
   "metadata": {},
   "source": [
    "# Multi-class"
   ]
  },
  {
   "cell_type": "code",
   "execution_count": 44,
   "metadata": {},
   "outputs": [],
   "source": [
    "weather_class_features = {\n",
    "    \"Day\": [\"Weekday\", \"Weekday\", \"Weekday\", \"Holiday\", \"Saturday\", \"Weekday\", \"Holiday\", \"Sunday\", \n",
    "            \"Weekday\", \"Weekday\", \"Saturday\", \"Weekday\", \"Weekday\", \"Weekday\", \"Weekday\", \"Saturday\", \n",
    "            \"Weekday\", \"Holiday\", \"Weekday\", \"Weekday\"],\n",
    "    \"Season\": [\"Spring\", \"Winter\", \"Winter\", \"Winter\", \"Summer\", \"Autumn\", \"Summer\", \"Summer\", \n",
    "               \"Winter\", \"Summer\", \"Spring\", \"Summer\", \"Winter\", \"Summer\", \"Winter\", \"Autumn\", \n",
    "               \"Autumn\", \"Spring\", \"Spring\", \"Spring\"],\n",
    "    \"Fog\": [\"None\", \"None\", \"None\", \"High\", \"Normal\", \"Normal\", \"High\", \"Normal\", \n",
    "            \"High\", \"None\", \"High\", \"High\", \"Normal\", \"High\", \"Normal\", \"High\", \n",
    "            \"None\", \"Normal\", \"Normal\", \"Normal\"],\n",
    "    \"Rain\": [\"None\", \"Slight\", \"None\", \"Slight\", \"None\", \"None\", \"Slight\", \"None\", \n",
    "             \"Heavy\", \"Slight\", \"Heavy\", \"Slight\", \"None\", \"None\", \"Heavy\", \"Slight\", \n",
    "             \"Heavy\", \"Slight\", \"None\", \"Heavy\"],\n",
    "    \"Class\": [\"On Time\", \"On Time\", \"On Time\", \"Late\", \"On Time\", \"Very Late\", \"On Time\", \"On Time\", \n",
    "              \"Very Late\", \"On Time\", \"Cancelled\", \"On Time\", \"Late\", \"On Time\", \"Very Late\", \"On Time\", \n",
    "              \"On Time\", \"On Time\", \"On Time\", \"On Time\"]\n",
    "}\n",
    "df_2 = pd.DataFrame(weather_class_features)"
   ]
  },
  {
   "cell_type": "code",
   "execution_count": 45,
   "metadata": {},
   "outputs": [],
   "source": [
    "X = df_2[['Day', 'Season', 'Fog', 'Rain']]\n",
    "y = df_2['Class']"
   ]
  },
  {
   "cell_type": "code",
   "execution_count": 46,
   "metadata": {},
   "outputs": [],
   "source": [
    "clf_2 = NaiveClassifier()\n",
    "clf_2.fit(X, y)\n"
   ]
  },
  {
   "cell_type": "code",
   "execution_count": 47,
   "metadata": {},
   "outputs": [
    {
     "data": {
      "text/plain": [
       "{'On Time': 0.7, 'Very Late': 0.15, 'Late': 0.1, 'Cancelled': 0.05}"
      ]
     },
     "execution_count": 47,
     "metadata": {},
     "output_type": "execute_result"
    }
   ],
   "source": [
    "clf_2.prior"
   ]
  },
  {
   "cell_type": "code",
   "execution_count": 48,
   "metadata": {},
   "outputs": [],
   "source": [
    "X_test = {\n",
    "    'Day': 'Weekday', \n",
    "    'Season': 'Winter',\n",
    "    'Fog': 'High', \n",
    "    'Rain': 'Heavy'\n",
    "\n",
    "}"
   ]
  },
  {
   "cell_type": "code",
   "execution_count": 49,
   "metadata": {},
   "outputs": [
    {
     "data": {
      "text/plain": [
       "{'On Time': 0.0026239067055393583,\n",
       " 'Very Late': 0.022222222222222216,\n",
       " 'Late': 0.0025000000000000005,\n",
       " 'Cancelled': 0.0005000000000000001}"
      ]
     },
     "execution_count": 49,
     "metadata": {},
     "output_type": "execute_result"
    }
   ],
   "source": [
    "clf_2.predict(X_test)"
   ]
  },
  {
   "cell_type": "markdown",
   "metadata": {},
   "source": [
    "# Iris"
   ]
  },
  {
   "cell_type": "code",
   "execution_count": 50,
   "metadata": {},
   "outputs": [],
   "source": [
    "data = {\n",
    "    \"Length\": [1.4, 1.0, 1.3, 1.9, 2.0, 1.8, 3.0, 3.8, 4.1, 3.9, 4.2, 3.4],\n",
    "    \"Class\": [0, 0, 0, 0, 0, 0, 1, 1, 1, 1, 1, 1]\n",
    "}\n",
    "df_iris = pd.DataFrame(data)"
   ]
  },
  {
   "cell_type": "code",
   "execution_count": 51,
   "metadata": {},
   "outputs": [
    {
     "data": {
      "text/html": [
       "<div>\n",
       "<style scoped>\n",
       "    .dataframe tbody tr th:only-of-type {\n",
       "        vertical-align: middle;\n",
       "    }\n",
       "\n",
       "    .dataframe tbody tr th {\n",
       "        vertical-align: top;\n",
       "    }\n",
       "\n",
       "    .dataframe thead th {\n",
       "        text-align: right;\n",
       "    }\n",
       "</style>\n",
       "<table border=\"1\" class=\"dataframe\">\n",
       "  <thead>\n",
       "    <tr style=\"text-align: right;\">\n",
       "      <th></th>\n",
       "      <th>Length</th>\n",
       "    </tr>\n",
       "  </thead>\n",
       "  <tbody>\n",
       "    <tr>\n",
       "      <th>0</th>\n",
       "      <td>1.4</td>\n",
       "    </tr>\n",
       "    <tr>\n",
       "      <th>1</th>\n",
       "      <td>1.0</td>\n",
       "    </tr>\n",
       "    <tr>\n",
       "      <th>2</th>\n",
       "      <td>1.3</td>\n",
       "    </tr>\n",
       "    <tr>\n",
       "      <th>3</th>\n",
       "      <td>1.9</td>\n",
       "    </tr>\n",
       "    <tr>\n",
       "      <th>4</th>\n",
       "      <td>2.0</td>\n",
       "    </tr>\n",
       "    <tr>\n",
       "      <th>5</th>\n",
       "      <td>1.8</td>\n",
       "    </tr>\n",
       "    <tr>\n",
       "      <th>6</th>\n",
       "      <td>3.0</td>\n",
       "    </tr>\n",
       "    <tr>\n",
       "      <th>7</th>\n",
       "      <td>3.8</td>\n",
       "    </tr>\n",
       "    <tr>\n",
       "      <th>8</th>\n",
       "      <td>4.1</td>\n",
       "    </tr>\n",
       "    <tr>\n",
       "      <th>9</th>\n",
       "      <td>3.9</td>\n",
       "    </tr>\n",
       "    <tr>\n",
       "      <th>10</th>\n",
       "      <td>4.2</td>\n",
       "    </tr>\n",
       "    <tr>\n",
       "      <th>11</th>\n",
       "      <td>3.4</td>\n",
       "    </tr>\n",
       "  </tbody>\n",
       "</table>\n",
       "</div>"
      ],
      "text/plain": [
       "    Length\n",
       "0      1.4\n",
       "1      1.0\n",
       "2      1.3\n",
       "3      1.9\n",
       "4      2.0\n",
       "5      1.8\n",
       "6      3.0\n",
       "7      3.8\n",
       "8      4.1\n",
       "9      3.9\n",
       "10     4.2\n",
       "11     3.4"
      ]
     },
     "execution_count": 51,
     "metadata": {},
     "output_type": "execute_result"
    }
   ],
   "source": [
    "X = df_iris[['Length']]\n",
    "y = df_iris['Class']\n",
    "X"
   ]
  },
  {
   "cell_type": "code",
   "execution_count": 52,
   "metadata": {},
   "outputs": [],
   "source": [
    "clf_iris = NaiveClassifier()\n",
    "clf_iris.fit(X, y)"
   ]
  },
  {
   "cell_type": "code",
   "execution_count": 53,
   "metadata": {},
   "outputs": [
    {
     "data": {
      "text/plain": [
       "{'mean': np.float64(3.733333333333333), 'std': np.float64(0.4546060565661952)}"
      ]
     },
     "execution_count": 53,
     "metadata": {},
     "output_type": "execute_result"
    }
   ],
   "source": [
    "clf_iris.conditional['Length'][1]"
   ]
  },
  {
   "cell_type": "code",
   "execution_count": 54,
   "metadata": {},
   "outputs": [],
   "source": [
    "X_test = {\n",
    "    \"Length\" : 3.4\n",
    "}"
   ]
  },
  {
   "cell_type": "code",
   "execution_count": 55,
   "metadata": {},
   "outputs": [
    {
     "data": {
      "text/plain": [
       "{0: np.float64(9.68913769105268e-06), 1: np.float64(0.3353505510396091)}"
      ]
     },
     "execution_count": 55,
     "metadata": {},
     "output_type": "execute_result"
    }
   ],
   "source": [
    "clf_iris.predict(X_test)"
   ]
  },
  {
   "cell_type": "code",
   "execution_count": 56,
   "metadata": {},
   "outputs": [],
   "source": [
    "data = {\n",
    "    'Outlook': ['Sunny', 'Sunny', 'Overcast', 'Rain', 'Rain', 'Rain', 'Overcast', 'Overcast', 'Sunny', 'Rain'],\n",
    "    'Temperature': ['Hot', 'Hot', 'Hot', 'Mild', 'Cool', 'Cool', 'Cool', 'Mild', 'Cool', 'Mild'],\n",
    "    'Humidity': ['High', 'High', 'High', 'High', 'Normal', 'Normal', 'Normal', 'High', 'Normal', 'Normal'],\n",
    "    'Wind': ['Weak', 'Strong', 'Weak', 'Weak', 'Weak', 'Strong', 'Strong', 'Weak', 'Weak', 'Weak'],\n",
    "    'PlayTennis': ['No', 'No', 'Yes', 'Yes', 'Yes', 'No', 'Yes', 'No', 'Yes', 'Yes']\n",
    "}\n",
    "df = pd.DataFrame(data)\n",
    "X = df[['Outlook', 'Temperature', 'Humidity', 'Wind']]\n",
    "y = df['PlayTennis']"
   ]
  },
  {
   "cell_type": "code",
   "execution_count": 57,
   "metadata": {},
   "outputs": [],
   "source": [
    "clstmp = NaiveClassifier()\n",
    "clstmp.fit(X, y)"
   ]
  },
  {
   "cell_type": "code",
   "execution_count": 58,
   "metadata": {},
   "outputs": [
    {
     "data": {
      "text/plain": [
       "{'Yes': 0.002777777777777777, 'No': 0.018750000000000003}"
      ]
     },
     "execution_count": 58,
     "metadata": {},
     "output_type": "execute_result"
    }
   ],
   "source": [
    "X_test = {\n",
    "    'Outlook': 'Sunny', \n",
    "    'Temperature': 'Cool',\n",
    "    \"Humidity\": 'High', \n",
    "    'Wind': 'Strong', \n",
    "}\n",
    "clstmp.predict(X_test)"
   ]
  },
  {
   "cell_type": "code",
   "execution_count": 59,
   "metadata": {},
   "outputs": [
    {
     "data": {
      "text/plain": [
       "{'Sunny': 0.5, 'Rain': 0.25, 'Overcast': 0.25}"
      ]
     },
     "execution_count": 59,
     "metadata": {},
     "output_type": "execute_result"
    }
   ],
   "source": [
    "clstmp.conditional['Outlook']['Sunny']['No']"
   ]
  },
  {
   "cell_type": "code",
   "execution_count": 60,
   "metadata": {},
   "outputs": [],
   "source": [
    "from sklearn.datasets import load_iris"
   ]
  },
  {
   "cell_type": "code",
   "execution_count": 61,
   "metadata": {},
   "outputs": [],
   "source": [
    "data = {\n",
    "    'Tuổi': ['Trẻ', 'Trẻ', 'Trung niên', 'Già', 'Già', 'Trung niên', 'Trẻ', 'Trung niên', 'Già', 'Trẻ'],\n",
    "    'Thu nhập': ['Thấp', 'Trung bình', 'Thấp', 'Trung bình', 'Cao', 'Cao', 'Cao', 'Trung bình', 'Thấp', 'Trung bình'],\n",
    "    'Mua bảo hiểm': ['Không', 'Có', 'Có', 'Có', 'Không', 'Có', 'Không', 'Có', 'Có', 'Không']\n",
    "}\n",
    "df = pd.DataFrame(data)\n",
    "X = df[['Tuổi', 'Thu nhập']]\n",
    "y = df['Mua bảo hiểm']"
   ]
  },
  {
   "cell_type": "code",
   "execution_count": 62,
   "metadata": {},
   "outputs": [],
   "source": [
    "clstmp = NaiveClassifier()\n",
    "clstmp.fit(X, y)"
   ]
  },
  {
   "cell_type": "code",
   "execution_count": 63,
   "metadata": {},
   "outputs": [
    {
     "data": {
      "text/plain": [
       "{'Có': 0.049999999999999996, 'Không': 0.020000000000000004}"
      ]
     },
     "execution_count": 63,
     "metadata": {},
     "output_type": "execute_result"
    }
   ],
   "source": [
    "X_test = {\n",
    "    'Tuổi': 'Trung niên',\n",
    "    'Thu nhập': 'Cao'\n",
    "}\n",
    "clstmp.predict(X_test)"
   ]
  },
  {
   "cell_type": "code",
   "execution_count": 66,
   "metadata": {},
   "outputs": [
    {
     "name": "stdout",
     "output_type": "stream",
     "text": [
      "P(Đạt | Cường độ ánh sáng = 750, Tuổi thọ = 45000) = 0.0000000000000000000000000000000000231487160951319045273859278144324892855301787680190114554758964491\n"
     ]
    },
    {
     "name": "stderr",
     "output_type": "stream",
     "text": [
      "d:\\BachKhoa\\AIO\\AIO-Exercise-And-Note\\venv\\Lib\\site-packages\\sklearn\\base.py:493: UserWarning: X does not have valid feature names, but GaussianNB was fitted with feature names\n",
      "  warnings.warn(\n"
     ]
    },
    {
     "data": {
      "text/plain": [
       "np.float64(2.3148716095131905e-35)"
      ]
     },
     "execution_count": 66,
     "metadata": {},
     "output_type": "execute_result"
    }
   ],
   "source": [
    "import numpy as np\n",
    "import pandas as pd\n",
    "from sklearn.naive_bayes import GaussianNB\n",
    "from sklearn.preprocessing import LabelEncoder\n",
    "\n",
    "# Prepare the data\n",
    "data = {\n",
    "    'Cường độ ánh sáng (lumen)': [805, 780, 795, 820, 810, 785, 815, 800, 610, 590, 620, 580, 600, 595, 605, 585],\n",
    "    'Tuổi thọ (giờ)': [51000, 49500, 52000, 50500, 48000, 53000, 49000, 50000, 31000, 28000, 33000, 29000, 32000, 27000, 34000, 31500],\n",
    "    'Phân loại': ['Đạt', 'Đạt', 'Đạt', 'Đạt', 'Đạt', 'Đạt', 'Đạt', 'Đạt', 'Không đạt', 'Không đạt', 'Không đạt', 'Không đạt', 'Không đạt', 'Không đạt', 'Không đạt', 'Không đạt']\n",
    "}\n",
    "\n",
    "df = pd.DataFrame(data)\n",
    "\n",
    "# Encode the labels\n",
    "label_encoder = LabelEncoder()\n",
    "df['Phân loại'] = label_encoder.fit_transform(df['Phân loại'])  # 0 for 'Đạt', 1 for 'Không đạt'\n",
    "\n",
    "# Features and target\n",
    "X = df[['Cường độ ánh sáng (lumen)', 'Tuổi thọ (giờ)']]\n",
    "y = df['Phân loại']\n",
    "\n",
    "# Train the model\n",
    "model = GaussianNB()\n",
    "model.fit(X, y)\n",
    "\n",
    "# Predict the probability for new data\n",
    "new_data = np.array([[750, 45000]])\n",
    "probabilities = model.predict_proba(new_data)\n",
    "\n",
    "# Get P(Đạt | Cường độ ánh sáng = 750, Tuổi thọ = 45000)\n",
    "p_dat = probabilities[0][0]  # Probability of 'Đạt' (class 0)\n",
    "print(f\"P(Đạt | Cường độ ánh sáng = 750, Tuổi thọ = 45000) = {p_dat:.100f}\")\n",
    "p_dat"
   ]
  },
  {
   "cell_type": "code",
   "execution_count": null,
   "metadata": {},
   "outputs": [],
   "source": []
  }
 ],
 "metadata": {
  "kernelspec": {
   "display_name": "venv",
   "language": "python",
   "name": "python3"
  },
  "language_info": {
   "codemirror_mode": {
    "name": "ipython",
    "version": 3
   },
   "file_extension": ".py",
   "mimetype": "text/x-python",
   "name": "python",
   "nbconvert_exporter": "python",
   "pygments_lexer": "ipython3",
   "version": "3.11.8"
  }
 },
 "nbformat": 4,
 "nbformat_minor": 2
}
