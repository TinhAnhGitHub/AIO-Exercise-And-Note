{
 "cells": [
  {
   "cell_type": "code",
   "execution_count": 46,
   "metadata": {},
   "outputs": [],
   "source": [
    "import numpy as np\n",
    "from typing import Tuple, Union, Optional, List\n",
    "from tqdm import tqdm\n",
    "import matplotlib.pyplot as plt\n",
    "\n",
    "from sklearn.datasets import load_iris\n",
    "from sklearn.model_selection import train_test_split\n",
    "from sklearn.metrics import accuracy_score\n",
    "from sklearn.preprocessing import StandardScaler\n",
    "\n",
    "\n",
    "from collections import Counter\n",
    "import re\n",
    "import pandas as pd\n",
    "from sklearn.feature_extraction.text import CountVectorizer"
   ]
  },
  {
   "cell_type": "markdown",
   "metadata": {},
   "source": [
    "# KNN Classifier for image"
   ]
  },
  {
   "cell_type": "code",
   "execution_count": 141,
   "metadata": {},
   "outputs": [
    {
     "data": {
      "text/plain": [
       "((150, 4), (150,))"
      ]
     },
     "execution_count": 141,
     "metadata": {},
     "output_type": "execute_result"
    }
   ],
   "source": [
    "iris = load_iris()\n",
    "iris.data.shape, iris.target.shape"
   ]
  },
  {
   "cell_type": "code",
   "execution_count": 142,
   "metadata": {},
   "outputs": [],
   "source": [
    "class KNNClassifier:\n",
    "    \"\"\"\n",
    "        KNN classifier implementation from stratch\n",
    "\n",
    "        this implementation only supports classification, and include the elbow method for finding the optimal k\n",
    "\n",
    "        Args:\n",
    "            k (int, optional): Number of neighbors to use for prediction. Defaults to 3.\n",
    "            X_train (np.ndarray): Training data features\n",
    "            y_train (np.ndarray): Training data labels or target values\n",
    "    \"\"\"\n",
    "\n",
    "    def __init__(self, k: int = 3):\n",
    "        \"\"\"\n",
    "        Initialize the KNN classifier.\n",
    "\n",
    "        Args:\n",
    "            k (int): Number of neighbors to use for prediction. Defaults to 3.\n",
    "        \"\"\"\n",
    "        self.k = k\n",
    "        self.X_train: Optional[np.ndarray] = None\n",
    "        self.y_train: Optional[np.ndarray] = None\n",
    "        self.scaler_fit = StandardScaler()\n",
    "    \n",
    "    def fit(self, X_train: np.ndarray, y_train: np.ndarray) -> None:\n",
    "        \"\"\"\n",
    "        Fit the KNN model to the training data.\n",
    "\n",
    "        Args:\n",
    "            X (np.ndarray): Training data features.\n",
    "            y (np.ndarray): Training data labels or target values.\n",
    "        \"\"\"\n",
    "        self.X_train = self.scaler_fit.fit_transform(X_train)\n",
    "        self.y_train = y_train\n",
    "\n",
    "    def predict(self, X: np.ndarray) -> np.ndarray:\n",
    "        \"\"\"\n",
    "        Predict labels or values for the given data.\n",
    "\n",
    "        Args:\n",
    "            X (np.ndarray): Data to predict.\n",
    "\n",
    "        Returns:\n",
    "            np.ndarray: Predicted labels or values.\n",
    "        \"\"\"\n",
    "        X_scaled = self.scaler_fit.fit_transform(X)\n",
    "        return np.array([self.predict_single(x) for x in tqdm(X_scaled, desc=\"Predicting\")])\n",
    "    \n",
    "    def predict_single(self, x: np.ndarray) -> Union[int, float]:\n",
    "        \"\"\"\n",
    "        Predict the label or value for a single data point.\n",
    "\n",
    "        Args:\n",
    "            x (np.ndarray): Single data point to predict.\n",
    "\n",
    "        Returns:\n",
    "            Union[int, float]: Predicted label or value.\n",
    "        \"\"\"\n",
    "        distances = np.sqrt(\n",
    "            np.sum( (self.X_train - x) ** 2, axis=1 ) # for each row\n",
    "        )\n",
    "        k_indices = np.argsort(distances)[: self.k]\n",
    "        k_nearest_labels = self.y_train[k_indices]\n",
    "\n",
    "        return int(np.argmax(np.bincount(k_nearest_labels)))\n",
    "    \n",
    "    def score(self, X: np.ndarray, y: np.ndarray) -> float:\n",
    "\n",
    "        y_pred = self.predict(X)\n",
    "        return accuracy_score(y, y_pred)\n",
    "    \n",
    "    def elbow_method(self, X: np.ndarray, y: np.ndarray, max_k: int = 30) -> Tuple[List[int], List[float]]:\n",
    "        \"\"\"\n",
    "        Perform the elbow method to find the optimal K value.\n",
    "\n",
    "        Args:\n",
    "            X (np.ndarray): Data features.\n",
    "            y (np.ndarray): Data labels or target values.\n",
    "            max_k (int): Maximum K value to consider. Defaults to 20.\n",
    "\n",
    "        Returns:\n",
    "            Tuple[List[int], List[float]]: K values and corresponding error rates.\n",
    "        \"\"\"\n",
    "        k_values = list(range(1, max_k + 1))\n",
    "        error_rates = []\n",
    "       \n",
    "\n",
    "        X_train, X_val, y_train, y_val = train_test_split(X, y, test_size=0.2)\n",
    "\n",
    "        for k in tqdm(k_values, desc=\"Elbow method: \"):\n",
    "            self.k = k\n",
    "            self.fit(X_train, y_train)\n",
    "            error = 1 - self.score(X_val, y_val)\n",
    "            error_rates.append(error)\n",
    "        \n",
    "        return k_values, error_rates\n",
    "    \n",
    "    @staticmethod\n",
    "    def plot_elbow_curve(k_values: List[int], error_rate: List[float]) -> None:\n",
    "        \"\"\"\n",
    "        Plot the elbow curve.\n",
    "\n",
    "        Args:\n",
    "            k_values (List[int]): List of K values.\n",
    "            error_rates (List[float]): Corresponding error rates.\n",
    "        \"\"\"\n",
    "        plt.figure(figsize=(10, 6))\n",
    "        plt.plot(k_values, error_rate, 'bo-')\n",
    "        plt.xlabel('K Value')\n",
    "        plt.ylabel('Error Rate')\n",
    "        plt.title('Elbow Curve for KNN Classification')\n",
    "        plt.show()\n",
    "    \n"
   ]
  },
  {
   "cell_type": "code",
   "execution_count": 143,
   "metadata": {},
   "outputs": [
    {
     "data": {
      "text/plain": [
       "((150, 4), (150,))"
      ]
     },
     "execution_count": 143,
     "metadata": {},
     "output_type": "execute_result"
    }
   ],
   "source": [
    "data = load_iris()\n",
    "X, y = data.data, data.target\n",
    "X.shape, y.shape"
   ]
  },
  {
   "cell_type": "code",
   "execution_count": 144,
   "metadata": {},
   "outputs": [
    {
     "name": "stderr",
     "output_type": "stream",
     "text": [
      "Predicting: 100%|██████████| 30/30 [00:00<00:00, 39321.60it/s]\n",
      "Predicting: 100%|██████████| 30/30 [00:00<00:00, 9999.93it/s]\n",
      "Predicting: 100%|██████████| 30/30 [00:00<00:00, 8315.98it/s]\n",
      "Predicting: 100%|██████████| 30/30 [00:00<?, ?it/s]\n",
      "Predicting: 100%|██████████| 30/30 [00:00<00:00, 13174.44it/s]\n",
      "Predicting: 100%|██████████| 30/30 [00:00<00:00, 15006.45it/s]\n",
      "Predicting: 100%|██████████| 30/30 [00:00<00:00, 25710.89it/s]\n",
      "Predicting: 100%|██████████| 30/30 [00:00<?, ?it/s]\n",
      "Predicting: 100%|██████████| 30/30 [00:00<?, ?it/s]\n",
      "Predicting: 100%|██████████| 30/30 [00:00<00:00, 1834.73it/s]\n",
      "Predicting: 100%|██████████| 30/30 [00:00<?, ?it/s]\n",
      "Predicting: 100%|██████████| 30/30 [00:00<00:00, 1831.12it/s]\n",
      "Predicting: 100%|██████████| 30/30 [00:00<?, ?it/s]\n",
      "Predicting: 100%|██████████| 30/30 [00:00<00:00, 2009.44it/s]\n",
      "Predicting: 100%|██████████| 30/30 [00:00<?, ?it/s]125.71it/s]\n",
      "Predicting: 100%|██████████| 30/30 [00:00<00:00, 2202.93it/s]\n",
      "Predicting: 100%|██████████| 30/30 [00:00<?, ?it/s]\n",
      "Predicting: 100%|██████████| 30/30 [00:00<00:00, 2275.14it/s]\n",
      "Predicting: 100%|██████████| 30/30 [00:00<00:00, 10007.88it/s]\n",
      "Predicting: 100%|██████████| 30/30 [00:00<00:00, 14988.58it/s]\n",
      "Predicting: 100%|██████████| 30/30 [00:00<00:00, 13528.56it/s]\n",
      "Predicting: 100%|██████████| 30/30 [00:00<?, ?it/s]\n",
      "Predicting: 100%|██████████| 30/30 [00:00<?, ?it/s]\n",
      "Predicting: 100%|██████████| 30/30 [00:00<00:00, 30016.49it/s]\n",
      "Predicting: 100%|██████████| 30/30 [00:00<00:00, 15020.79it/s]\n",
      "Predicting: 100%|██████████| 30/30 [00:00<?, ?it/s]\n",
      "Predicting: 100%|██████████| 30/30 [00:00<00:00, 17163.98it/s]\n",
      "Predicting: 100%|██████████| 30/30 [00:00<00:00, 2013.72it/s] \n",
      "Predicting: 100%|██████████| 30/30 [00:00<?, ?it/s]\n",
      "Predicting: 100%|██████████| 30/30 [00:00<00:00, 11043.45it/s]\n",
      "Elbow method: 100%|██████████| 30/30 [00:00<00:00, 94.88it/s]\n"
     ]
    },
    {
     "data": {
      "image/png": "[encoded data removed]",
      "text/plain": [
       "<Figure size 1000x600 with 1 Axes>"
      ]
     },
     "metadata": {},
     "output_type": "display_data"
    }
   ],
   "source": [
    "model = KNNClassifier()\n",
    "k_values, error_rate = model.elbow_method(X, y)\n",
    "KNNClassifier.plot_elbow_curve(k_values, error_rate)"
   ]
  },
  {
   "cell_type": "markdown",
   "metadata": {},
   "source": [
    "# Text Classification using KNNClassifier"
   ]
  },
  {
   "cell_type": "code",
   "execution_count": 2,
   "metadata": {},
   "outputs": [],
   "source": [
    "class KNNTextClassifier:\n",
    "\n",
    "    def __init__(self, k: int = 3):\n",
    "        self.k = k\n",
    "        self.vectorizer = CountVectorizer(binary=True, max_features=5000)\n",
    "        self.X_train: np.ndarray = None\n",
    "        self.y_train: np.ndarray = None\n",
    "    \n",
    "    def preprocess_text(self, text: str) -> str:\n",
    "        \"\"\"Preprocess the input text.\"\"\"\n",
    "        # Convert to lowercase and remove special characters\n",
    "        text = re.sub(r'[^a-zA-Z\\s]', '', text.lower())\n",
    "        return text\n",
    "    \n",
    "    def fit(self, X: List[str], y: List[int]):\n",
    "        \"\"\"Fit the KNN model to the training data.\"\"\"\n",
    "        X_preprocessed = [self.preprocess_text(text) for text in X]\n",
    "        self.X_train = self.vectorizer.fit_transform(X_preprocessed).toarray()\n",
    "        self.y_train = np.array(y)\n",
    "    \n",
    "    def _predict_single(self, x:np.ndarray) -> int:\n",
    "\n",
    "        distances = np.sqrt(np.sum(\n",
    "            (self.X_train - x) ** 2, axis=1 \n",
    "        ))\n",
    "        k_indices = np.argsort(distances)[:self.k]\n",
    "        k_nearest_label = self.y_train[k_indices]\n",
    "\n",
    "        return Counter(k_nearest_label).most_common(1)[0][0]\n",
    "    \n",
    "    def predict(self, X: List[str]) -> np.ndarray:\n",
    "        X_preprocessed = [self.preprocess_text(text) for text in X]\n",
    "        X_vectorized = self.vectorizer.transform(X_preprocessed).toarray()\n",
    "        return np.array([self._predict_single(x) for x in tqdm(X_vectorized, desc=\"Predicting\")])\n",
    "    "
   ]
  },
  {
   "cell_type": "code",
   "execution_count": 53,
   "metadata": {},
   "outputs": [],
   "source": [
    "def load_data(file_path: str) -> Tuple[List[str], List[int]]:\n",
    "    texts, labels = [], []\n",
    "    with open(file_path, 'r', encoding='utf-8') as f:\n",
    "        for line in f:\n",
    "            parts = line.strip().rsplit(',')\n",
    "            text, label = parts[2], parts[1]\n",
    "            texts.append(text)\n",
    "            labels.append(int(label))\n",
    "    return texts, labels\n",
    "\n",
    "def cross_validate(X: List[str], y: List[int], k: int, n_splits: int = 5) -> float:\n",
    "    accuracies = []\n",
    "    for _ in range(n_splits):\n",
    "        X_train, X_test, y_train, y_test = train_test_split(X, y, test_size=0.2)\n",
    "        classifier = KNNTextClassifier(k=k)\n",
    "        classifier.fit(X_train, y_train)\n",
    "        y_pred = classifier.predict(X_test)\n",
    "        accuracy = np.mean(y_pred == y_test)\n",
    "        accuracies.append(accuracy)\n",
    "    return np.mean(accuracies)\n",
    "        "
   ]
  },
  {
   "cell_type": "code",
   "execution_count": 54,
   "metadata": {},
   "outputs": [],
   "source": [
    "X, y = load_data('./dataset/sentiment_analysis.csv')"
   ]
  },
  {
   "cell_type": "code",
   "execution_count": 55,
   "metadata": {},
   "outputs": [
    {
     "name": "stderr",
     "output_type": "stream",
     "text": [
      "Predicting: 100%|██████████| 1584/1584 [05:54<00:00,  4.47it/s]\n",
      "Predicting: 100%|██████████| 1584/1584 [05:26<00:00,  4.86it/s]\n",
      "Predicting: 100%|██████████| 1584/1584 [05:42<00:00,  4.63it/s]\n",
      "Predicting: 100%|██████████| 1584/1584 [05:45<00:00,  4.58it/s]\n",
      "Predicting: 100%|██████████| 1584/1584 [05:44<00:00,  4.60it/s]\n"
     ]
    },
    {
     "name": "stdout",
     "output_type": "stream",
     "text": [
      "K = 1, Accuracy: 0.7081\n"
     ]
    },
    {
     "name": "stderr",
     "output_type": "stream",
     "text": [
      "Predicting: 100%|██████████| 1584/1584 [05:21<00:00,  4.93it/s]\n",
      "Predicting: 100%|██████████| 1584/1584 [06:14<00:00,  4.23it/s]\n",
      "Predicting: 100%|██████████| 1584/1584 [06:03<00:00,  4.36it/s]\n",
      "Predicting: 100%|██████████| 1584/1584 [07:08<00:00,  3.70it/s]\n",
      "Predicting: 100%|██████████| 1584/1584 [05:54<00:00,  4.47it/s]\n"
     ]
    },
    {
     "name": "stdout",
     "output_type": "stream",
     "text": [
      "K = 3, Accuracy: 0.7278\n"
     ]
    },
    {
     "name": "stderr",
     "output_type": "stream",
     "text": [
      "Predicting: 100%|██████████| 1584/1584 [06:18<00:00,  4.19it/s]\n",
      "Predicting: 100%|██████████| 1584/1584 [05:43<00:00,  4.62it/s]\n",
      "Predicting: 100%|██████████| 1584/1584 [06:25<00:00,  4.11it/s]\n",
      "Predicting: 100%|██████████| 1584/1584 [05:33<00:00,  4.75it/s]\n",
      "Predicting:  38%|███▊      | 601/1584 [02:45<05:34,  2.94it/s]"
     ]
    }
   ],
   "source": [
    "k_values = [1, 3, 5, 7, 9]\n",
    "best_k, best_accuracy = 0, 0\n",
    "for k in k_values:\n",
    "    accuracy = cross_validate(X, y, k)\n",
    "    print(f\"K = {k}, Accuracy: {accuracy:.4f}\")\n",
    "    if accuracy > best_accuracy:\n",
    "        best_k, best_accuracy = k, accuracy\n",
    "\n",
    "print(f\"\\nBest K: {best_k}\")\n",
    "print(f\"Best Accuracy: {best_accuracy:.4f}\")"
   ]
  },
  {
   "cell_type": "code",
   "execution_count": null,
   "metadata": {},
   "outputs": [],
   "source": []
  }
 ],
 "metadata": {
  "kernelspec": {
   "display_name": "venv",
   "language": "python",
   "name": "python3"
  },
  "language_info": {
   "codemirror_mode": {
    "name": "ipython",
    "version": 3
   },
   "file_extension": ".py",
   "mimetype": "text/x-python",
   "name": "python",
   "nbconvert_exporter": "python",
   "pygments_lexer": "ipython3",
   "version": "3.11.8"
  }
 },
 "nbformat": 4,
 "nbformat_minor": 2
}
