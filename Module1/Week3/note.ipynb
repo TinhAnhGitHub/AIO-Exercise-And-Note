{
 "cells": [
  {
   "cell_type": "code",
   "execution_count": 1,
   "metadata": {},
   "outputs": [],
   "source": [
    "class Math1:\n",
    "    def is_even(self, number):\n",
    "        if number % 2 :\n",
    "            return False\n",
    "        else: \n",
    "            return True\n",
    "    \n",
    "    def factorial (self, number):\n",
    "        result = 1\n",
    "        for i in range(1, number + 1):\n",
    "            result = result * i\n",
    "        return result"
   ]
  },
  {
   "cell_type": "code",
   "execution_count": 2,
   "metadata": {},
   "outputs": [],
   "source": [
    "class Math2(Math1):\n",
    "    def estimate_euler(self, number):\n",
    "        result = 1\n",
    "        for i in range(1, number+1):\n",
    "            #result = result + 1/super().factorial(i)\n",
    "            result = result + 1/self.factorial(i)\n",
    "            \n",
    "        return result"
   ]
  },
  {
   "cell_type": "code",
   "execution_count": 3,
   "metadata": {},
   "outputs": [
    {
     "name": "stdout",
     "output_type": "stream",
     "text": [
      "2.5\n",
      "2.71827876984127\n"
     ]
    }
   ],
   "source": [
    "math2 = Math2()\n",
    "print(math2.estimate_euler(2))\n",
    "print(math2.estimate_euler(8))"
   ]
  },
  {
   "cell_type": "markdown",
   "metadata": {},
   "source": [
    "# Inheritance"
   ]
  },
  {
   "cell_type": "code",
   "execution_count": null,
   "metadata": {},
   "outputs": [],
   "source": []
  }
 ],
 "metadata": {
  "kernelspec": {
   "display_name": "venv",
   "language": "python",
   "name": "python3"
  },
  "language_info": {
   "codemirror_mode": {
    "name": "ipython",
    "version": 3
   },
   "file_extension": ".py",
   "mimetype": "text/x-python",
   "name": "python",
   "nbconvert_exporter": "python",
   "pygments_lexer": "ipython3",
   "version": "3.11.8"
  }
 },
 "nbformat": 4,
 "nbformat_minor": 2
}
