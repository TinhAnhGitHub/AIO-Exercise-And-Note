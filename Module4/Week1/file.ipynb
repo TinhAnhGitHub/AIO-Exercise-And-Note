{
 "cells": [
  {
   "cell_type": "code",
   "execution_count": 56,
   "metadata": {},
   "outputs": [],
   "source": [
    "import pandas as pd \n",
    "import numpy as np\n",
    "import random\n",
    "from typing import List, Tuple, Dict, Any"
   ]
  },
  {
   "cell_type": "code",
   "execution_count": 84,
   "metadata": {},
   "outputs": [],
   "source": [
    "def get_column(data: List[List[float]], index:int) -> List[float]:\n",
    "    return [row[index] for row in data]\n",
    "\n",
    "def prepare_data(file_name_dataset:str) -> Tuple[List[List[float]], List[float]]:\n",
    "    data = np.genfromtxt(file_name_dataset, delimiter=',', skip_header=1)\n",
    "    # N = len(data)\n",
    "    # tv_data = get_column(data,0)\n",
    "    # radio_data = get_column(data,1)\n",
    "    # newspaper_data = get_column(data,2)\n",
    "    # sales_data = get_column(data,3)\n",
    "\n",
    "    # X = [tv_data, radio_data, newspaper_data]\n",
    "    # y = sales_data\n",
    "    X = data[:, :-1]\n",
    "    y = data[:, -1]\n",
    "    return X, y\n",
    "\n",
    "\n",
    "def initial_params() -> List[float]:\n",
    "    return np.array([0.016992259082509283, 0.0070783670518262355, -0.002307860847821344]), 0\n",
    "\n",
    "def predict(X_features: List[float], weights: List[float], bias: float) -> float:\n",
    "    return np.dot(X_features, weights) + bias\n",
    "\n",
    "def compute_loss(y_hat: float, y: float) -> float:\n",
    "    return (y_hat - y) ** 2\n",
    "\n",
    "def compute_gradients(X_features: np.ndarray, y: float, y_hat: float) -> Tuple[np.ndarray, float]:\n",
    "    error = y_hat - y\n",
    "    gradients_w = 2 * X_features * error\n",
    "    gradient_b = 2 * error\n",
    "    return gradients_w, gradient_b\n",
    "\n",
    "def update_parameters(weights: np.ndarray, bias: float, gradients_w: np.ndarray, gradient_b: float, lr: float) -> Tuple[np.ndarray, float]:\n",
    "    weights -= lr * gradients_w\n",
    "    bias -= lr * gradient_b\n",
    "    return weights, bias\n",
    "\n",
    "\n",
    "\n",
    "def implement_linear_regression(\n",
    "  X_feat: np.ndarray,\n",
    "  y_feat: np.ndarray,\n",
    "  epoch_max: int = 50, \n",
    "  lr: float = 1e-5\n",
    ") -> Tuple[np.ndarray, List[float]]:\n",
    "    losses: List[float] = []\n",
    "    weights, bias = initial_params()\n",
    "  \n",
    "    N = len(y_feat)\n",
    "    for epoch in range(epoch_max):\n",
    "        print(f\"Epoch: {epoch+1}\")\n",
    "        for i in range(N):\n",
    "            feature_i = X_feat[i]\n",
    "            y = y_feat[i]\n",
    "            y_hat = predict(feature_i, weights, bias)\n",
    "            loss = compute_loss(y_hat, y)\n",
    "            gradients_w, gradient_b = compute_gradients(feature_i, y, y_hat)\n",
    "            weights, bias = update_parameters(weights, bias, gradients_w, gradient_b, lr)\n",
    "\n",
    "            losses.append(loss)\n",
    "      \n",
    "    return weights, losses, bias\n",
    "\n",
    "\n",
    "\n",
    "def implement_linear_regression_batch(\n",
    "  X_feat: np.ndarray,\n",
    "  y_feat: np.ndarray,\n",
    "  epoch_max: int = 50, \n",
    "  lr: float = 1e-5\n",
    ") -> Tuple[np.ndarray, List[float]]:\n",
    "    losses: List[float] = []\n",
    "    weights, bias = initial_params()\n",
    "  \n",
    "    N = len(y_feat)\n",
    "    for epoch in range(epoch_max):\n",
    "        total_loss = 0\n",
    "        total_gradients_w = np.zeros_like(weights)\n",
    "        total_gradient_b = 0.0\n",
    "\n",
    "\n",
    "        for i in range(N):\n",
    "            feature_i = X_feat[i]\n",
    "            y = y_feat[i]\n",
    "            y_hat = predict(feature_i, weights, bias)\n",
    "            loss = compute_loss(y_hat, y)\n",
    "            gradients_w, gradient_b = compute_gradients(feature_i, y, y_hat)\n",
    "            total_gradients_w += gradients_w\n",
    "            total_gradient_b += gradient_b\n",
    "            total_loss += loss\n",
    "        \n",
    "        weights, bias = update_parameters(weights, bias, total_gradients_w/N, total_gradient_b/N, lr)\n",
    "\n",
    "        losses.append(loss/N)\n",
    "      \n",
    "    return weights, losses, bias"
   ]
  },
  {
   "cell_type": "code",
   "execution_count": 64,
   "metadata": {},
   "outputs": [],
   "source": [
    "# X,y = prepare_data('./advertising.csv')\n",
    "# list = [ sum ( X [0][:5]) , sum ( X [1][:5]) , sum ( X [2][:5]) , sum ( y [:5]) ]\n",
    "# print(list)"
   ]
  },
  {
   "cell_type": "code",
   "execution_count": 65,
   "metadata": {},
   "outputs": [
    {
     "data": {
      "text/plain": [
       "((200, 3), (200,))"
      ]
     },
     "execution_count": 65,
     "metadata": {},
     "output_type": "execute_result"
    }
   ],
   "source": [
    "X, y = prepare_data('./advertising.csv')\n",
    "X.shape, y.shape"
   ]
  },
  {
   "cell_type": "code",
   "execution_count": 89,
   "metadata": {},
   "outputs": [
    {
     "name": "stdout",
     "output_type": "stream",
     "text": [
      "Epoch: 1\n",
      "Epoch: 2\n",
      "Epoch: 3\n",
      "Epoch: 4\n",
      "Epoch: 5\n",
      "Epoch: 6\n",
      "Epoch: 7\n",
      "Epoch: 8\n",
      "Epoch: 9\n",
      "Epoch: 10\n",
      "Epoch: 11\n",
      "Epoch: 12\n",
      "Epoch: 13\n",
      "Epoch: 14\n",
      "Epoch: 15\n",
      "Epoch: 16\n",
      "Epoch: 17\n",
      "Epoch: 18\n",
      "Epoch: 19\n",
      "Epoch: 20\n",
      "Epoch: 21\n",
      "Epoch: 22\n",
      "Epoch: 23\n",
      "Epoch: 24\n",
      "Epoch: 25\n",
      "Epoch: 26\n",
      "Epoch: 27\n",
      "Epoch: 28\n",
      "Epoch: 29\n",
      "Epoch: 30\n",
      "Epoch: 31\n",
      "Epoch: 32\n",
      "Epoch: 33\n",
      "Epoch: 34\n",
      "Epoch: 35\n",
      "Epoch: 36\n",
      "Epoch: 37\n",
      "Epoch: 38\n",
      "Epoch: 39\n",
      "Epoch: 40\n",
      "Epoch: 41\n",
      "Epoch: 42\n",
      "Epoch: 43\n",
      "Epoch: 44\n",
      "Epoch: 45\n",
      "Epoch: 46\n",
      "Epoch: 47\n",
      "Epoch: 48\n",
      "Epoch: 49\n",
      "Epoch: 50\n"
     ]
    }
   ],
   "source": [
    "W, L , b= implement_linear_regression(X, y)"
   ]
  },
  {
   "cell_type": "code",
   "execution_count": 90,
   "metadata": {},
   "outputs": [
    {
     "data": {
      "text/plain": [
       "31.338878034644296"
      ]
     },
     "execution_count": 90,
     "metadata": {},
     "output_type": "execute_result"
    }
   ],
   "source": [
    "L[9999]"
   ]
  },
  {
   "cell_type": "code",
   "execution_count": 70,
   "metadata": {},
   "outputs": [
    {
     "data": {
      "image/png": "[encoded data removed]",
      "text/plain": [
       "<Figure size 640x480 with 1 Axes>"
      ]
     },
     "metadata": {},
     "output_type": "display_data"
    }
   ],
   "source": [
    "import matplotlib.pyplot as plt\n",
    "plt.plot(L[:100])\n",
    "plt.xlabel (\"# iteration \")\n",
    "plt.ylabel (\" Loss \")\n",
    "plt.show ()"
   ]
  },
  {
   "cell_type": "code",
   "execution_count": 71,
   "metadata": {},
   "outputs": [
    {
     "data": {
      "text/plain": [
       "array([0.07405984, 0.1591736 , 0.0175612 ])"
      ]
     },
     "execution_count": 71,
     "metadata": {},
     "output_type": "execute_result"
    }
   ],
   "source": [
    "W"
   ]
  },
  {
   "cell_type": "code",
   "execution_count": 75,
   "metadata": {},
   "outputs": [
    {
     "data": {
      "text/plain": [
       "8.176413319549823"
      ]
     },
     "execution_count": 75,
     "metadata": {},
     "output_type": "execute_result"
    }
   ],
   "source": [
    "predict(\n",
    "    [19.2, 35.9, 51.3],\n",
    "    W,\n",
    "    b\n",
    ")"
   ]
  },
  {
   "cell_type": "code",
   "execution_count": 85,
   "metadata": {},
   "outputs": [],
   "source": [
    "X, y = prepare_data('./advertising.csv')\n",
    "W, L, b = implement_linear_regression_batch(X,y, 1000, 1e-5)"
   ]
  },
  {
   "cell_type": "code",
   "execution_count": 87,
   "metadata": {},
   "outputs": [
    {
     "data": {
      "image/png": "[encoded data removed]",
      "text/plain": [
       "<Figure size 640x480 with 1 Axes>"
      ]
     },
     "metadata": {},
     "output_type": "display_data"
    }
   ],
   "source": [
    "import matplotlib.pyplot as plt\n",
    "plt.plot(L)\n",
    "plt.xlabel (\"# iteration \")\n",
    "plt.ylabel (\" Loss \")\n",
    "plt.show ()"
   ]
  },
  {
   "cell_type": "code",
   "execution_count": 88,
   "metadata": {},
   "outputs": [
    {
     "data": {
      "text/plain": [
       "array([0.06710991, 0.15756174, 0.0296198 ])"
      ]
     },
     "execution_count": 88,
     "metadata": {},
     "output_type": "execute_result"
    }
   ],
   "source": [
    "W"
   ]
  },
  {
   "cell_type": "code",
   "execution_count": null,
   "metadata": {},
   "outputs": [],
   "source": []
  }
 ],
 "metadata": {
  "kernelspec": {
   "display_name": "venv",
   "language": "python",
   "name": "python3"
  },
  "language_info": {
   "codemirror_mode": {
    "name": "ipython",
    "version": 3
   },
   "file_extension": ".py",
   "mimetype": "text/x-python",
   "name": "python",
   "nbconvert_exporter": "python",
   "pygments_lexer": "ipython3",
   "version": "3.11.8"
  }
 },
 "nbformat": 4,
 "nbformat_minor": 2
}
