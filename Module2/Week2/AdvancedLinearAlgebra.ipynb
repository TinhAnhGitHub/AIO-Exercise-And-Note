{
 "cells": [
  {
   "cell_type": "code",
   "execution_count": 1,
   "metadata": {},
   "outputs": [],
   "source": [
    "import numpy as np"
   ]
  },
  {
   "cell_type": "markdown",
   "metadata": {},
   "source": [
    "# LeastSquare Estimation"
   ]
  },
  {
   "cell_type": "code",
   "execution_count": 2,
   "metadata": {},
   "outputs": [],
   "source": [
    "A = np.array(\n",
    "    [\n",
    "        [6.7, 1],\n",
    "        [4.6, 1],\n",
    "        [3.5, 1],\n",
    "        [5.5, 1]\n",
    "    ]\n",
    ")\n",
    "y = np.array(\n",
    "    [\n",
    "        9.1, 5.9, 4.6, 6.7\n",
    "    ]\n",
    ")"
   ]
  },
  {
   "cell_type": "code",
   "execution_count": 5,
   "metadata": {},
   "outputs": [
    {
     "data": {
      "text/plain": [
       "array([ 1.37268204, -0.39136137])"
      ]
     },
     "execution_count": 5,
     "metadata": {},
     "output_type": "execute_result"
    }
   ],
   "source": [
    "ATA = np.dot(A.T, A)\n",
    "inverse_ATA = np.linalg.inv(ATA)\n",
    "\n",
    "x = np.dot(inverse_ATA, np.dot(A.T, y))\n",
    "x"
   ]
  },
  {
   "cell_type": "code",
   "execution_count": 11,
   "metadata": {},
   "outputs": [
    {
     "data": {
      "text/plain": [
       "(np.float64(1.3726820443238348), np.float64(-0.39136137494346346))"
      ]
     },
     "execution_count": 11,
     "metadata": {},
     "output_type": "execute_result"
    }
   ],
   "source": [
    "x = np.array([6.7, 4.6, 3.5, 5.5])\n",
    "y = np.array([9.1, 5.9, 4.6, 6.7])\n",
    "\n",
    "A = np.stack([x, np.ones(len(x))]).T\n",
    "\n",
    "w, b = np.linalg.lstsq(A, y, rcond=None)[0]\n",
    "w, b"
   ]
  },
  {
   "cell_type": "markdown",
   "metadata": {},
   "source": [
    "# Cosine Similarity"
   ]
  },
  {
   "cell_type": "code",
   "execution_count": 14,
   "metadata": {},
   "outputs": [
    {
     "data": {
      "text/plain": [
       "np.float64(0.552005787925351)"
      ]
     },
     "execution_count": 14,
     "metadata": {},
     "output_type": "execute_result"
    }
   ],
   "source": [
    "vector1 = np.array([5, 3, 2, 7])\n",
    "vector2 = np.array([2, 9, 4, 1])\n",
    "\n",
    "dproduct = np.dot(vector1, vector2)\n",
    "norm_1 = np.linalg.norm(vector1)\n",
    "norm_2 = np.linalg.norm(vector2)\n",
    "\n",
    "cosine = dproduct / (norm_1 * norm_2)\n",
    "cosine"
   ]
  },
  {
   "cell_type": "markdown",
   "metadata": {},
   "source": [
    "# eigenvalue"
   ]
  }
 ],
 "metadata": {
  "kernelspec": {
   "display_name": "venv",
   "language": "python",
   "name": "python3"
  },
  "language_info": {
   "codemirror_mode": {
    "name": "ipython",
    "version": 3
   },
   "file_extension": ".py",
   "mimetype": "text/x-python",
   "name": "python",
   "nbconvert_exporter": "python",
   "pygments_lexer": "ipython3",
   "version": "3.11.8"
  }
 },
 "nbformat": 4,
 "nbformat_minor": 2
}
